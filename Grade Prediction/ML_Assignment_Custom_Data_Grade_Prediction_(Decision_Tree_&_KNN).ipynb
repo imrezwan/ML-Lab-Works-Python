{
  "nbformat": 4,
  "nbformat_minor": 0,
  "metadata": {
    "colab": {
      "name": "ML Assignment : Custom Data Grade Prediction (Decision Tree & KNN).ipynb",
      "provenance": [],
      "collapsed_sections": []
    },
    "kernelspec": {
      "name": "python3",
      "display_name": "Python 3"
    },
    "language_info": {
      "name": "python"
    }
  },
  "cells": [
    {
      "cell_type": "code",
      "metadata": {
        "id": "VztQoM8s8gyN"
      },
      "source": [
        "import pandas as pd\n",
        "from sklearn.tree import DecisionTreeClassifier\n",
        "from sklearn.model_selection import train_test_split\n",
        "from sklearn.metrics import accuracy_score\n",
        "from sklearn import tree"
      ],
      "execution_count": 1,
      "outputs": []
    },
    {
      "cell_type": "code",
      "metadata": {
        "colab": {
          "base_uri": "https://localhost:8080/"
        },
        "id": "MZX2D4dt8i2S",
        "outputId": "9ff54388-a103-4a32-f608-31d7db0daa47"
      },
      "source": [
        "from google.colab import drive\n",
        "drive.mount('/content/drive')"
      ],
      "execution_count": 2,
      "outputs": [
        {
          "output_type": "stream",
          "name": "stdout",
          "text": [
            "Drive already mounted at /content/drive; to attempt to forcibly remount, call drive.mount(\"/content/drive\", force_remount=True).\n"
          ]
        }
      ]
    },
    {
      "cell_type": "code",
      "metadata": {
        "colab": {
          "base_uri": "https://localhost:8080/",
          "height": 224
        },
        "id": "zecVhqpu7xPR",
        "outputId": "8d5a0409-182c-4df3-a7d0-7aa213484feb"
      },
      "source": [
        "gpd = pd.read_csv(\"/content/drive/MyDrive/ML Lab 4-1/GradePredictionData.csv\", encoding='utf8', engine='python')\n",
        "gpd.head()"
      ],
      "execution_count": 3,
      "outputs": [
        {
          "output_type": "execute_result",
          "data": {
            "text/html": [
              "<div>\n",
              "<style scoped>\n",
              "    .dataframe tbody tr th:only-of-type {\n",
              "        vertical-align: middle;\n",
              "    }\n",
              "\n",
              "    .dataframe tbody tr th {\n",
              "        vertical-align: top;\n",
              "    }\n",
              "\n",
              "    .dataframe thead th {\n",
              "        text-align: right;\n",
              "    }\n",
              "</style>\n",
              "<table border=\"1\" class=\"dataframe\">\n",
              "  <thead>\n",
              "    <tr style=\"text-align: right;\">\n",
              "      <th></th>\n",
              "      <th>Daily Study Hour</th>\n",
              "      <th>Average CT Marks</th>\n",
              "      <th>Class Attendance</th>\n",
              "      <th>PL/SPL Study Hours</th>\n",
              "      <th>PL/SPL Sleeping Hours</th>\n",
              "      <th>Average Sleeping Hours</th>\n",
              "      <th>Social Media Hours</th>\n",
              "      <th>PL/SPL Social Media Hours</th>\n",
              "      <th>Concentration in Classes</th>\n",
              "      <th>Confidence</th>\n",
              "      <th>Final Grade</th>\n",
              "    </tr>\n",
              "  </thead>\n",
              "  <tbody>\n",
              "    <tr>\n",
              "      <th>0</th>\n",
              "      <td>1</td>\n",
              "      <td>8</td>\n",
              "      <td>65</td>\n",
              "      <td>12</td>\n",
              "      <td>6</td>\n",
              "      <td>8.0</td>\n",
              "      <td>3</td>\n",
              "      <td>1</td>\n",
              "      <td>NaN</td>\n",
              "      <td>3</td>\n",
              "      <td>3.25</td>\n",
              "    </tr>\n",
              "    <tr>\n",
              "      <th>1</th>\n",
              "      <td>2</td>\n",
              "      <td>12</td>\n",
              "      <td>95</td>\n",
              "      <td>9</td>\n",
              "      <td>10</td>\n",
              "      <td>10.0</td>\n",
              "      <td>2</td>\n",
              "      <td>1</td>\n",
              "      <td>7.0</td>\n",
              "      <td>7</td>\n",
              "      <td>3.84</td>\n",
              "    </tr>\n",
              "    <tr>\n",
              "      <th>2</th>\n",
              "      <td>2</td>\n",
              "      <td>15</td>\n",
              "      <td>96</td>\n",
              "      <td>13</td>\n",
              "      <td>6</td>\n",
              "      <td>8.0</td>\n",
              "      <td>5</td>\n",
              "      <td>2</td>\n",
              "      <td>5.0</td>\n",
              "      <td>8</td>\n",
              "      <td>3.61</td>\n",
              "    </tr>\n",
              "    <tr>\n",
              "      <th>3</th>\n",
              "      <td>1</td>\n",
              "      <td>9</td>\n",
              "      <td>70</td>\n",
              "      <td>6</td>\n",
              "      <td>8</td>\n",
              "      <td>8.0</td>\n",
              "      <td>3</td>\n",
              "      <td>2</td>\n",
              "      <td>7.0</td>\n",
              "      <td>9</td>\n",
              "      <td>3.41</td>\n",
              "    </tr>\n",
              "    <tr>\n",
              "      <th>4</th>\n",
              "      <td>1</td>\n",
              "      <td>8</td>\n",
              "      <td>60</td>\n",
              "      <td>10</td>\n",
              "      <td>9</td>\n",
              "      <td>8.0</td>\n",
              "      <td>2</td>\n",
              "      <td>2</td>\n",
              "      <td>3.0</td>\n",
              "      <td>4</td>\n",
              "      <td>3.14</td>\n",
              "    </tr>\n",
              "  </tbody>\n",
              "</table>\n",
              "</div>"
            ],
            "text/plain": [
              "   Daily Study Hour  Average CT Marks  ...  Confidence  Final Grade\n",
              "0                 1                 8  ...           3         3.25\n",
              "1                 2                12  ...           7         3.84\n",
              "2                 2                15  ...           8         3.61\n",
              "3                 1                 9  ...           9         3.41\n",
              "4                 1                 8  ...           4         3.14\n",
              "\n",
              "[5 rows x 11 columns]"
            ]
          },
          "metadata": {},
          "execution_count": 3
        }
      ]
    },
    {
      "cell_type": "code",
      "metadata": {
        "id": "3nZVc8SJ81c_"
      },
      "source": [
        "# Data Cleaning\n",
        "#gpd[\"Concentration in Classes\"] = gpd[\"Concentration in Classes\"].fillna(0)\n",
        "#gpd = gpd.fillna({\"Daily Study Hour\": 0, \"Average CT Marks\":0, \"Class Attendance\":0, \"PL/SPL Study Hours\":0 ,\"PL/SPL Sleeping Hours\":0, \"Average Sleeping Hours\":0, \"Social Media Hours\":0, \"PL/SPL Social Media Hours\":0, \"Concentration in Classes\":0, \"Confidence\":0})"
      ],
      "execution_count": 4,
      "outputs": []
    },
    {
      "cell_type": "code",
      "metadata": {
        "id": "WelqIcxiJpI8",
        "colab": {
          "base_uri": "https://localhost:8080/"
        },
        "outputId": "7dcc04e4-1106-4456-c687-cfe29f3cea5a"
      },
      "source": [
        "newgpd = gpd[gpd['Concentration in Classes'].notna()] # getting only the row where concentration in classes is not NaN\n",
        "print(newgpd.head())\n",
        "\n",
        "feature_cols = [\"Daily Study Hour\", \"Average CT Marks\", \"Class Attendance\", \"PL/SPL Study Hours\" ,\"PL/SPL Sleeping Hours\", \"Average Sleeping Hours\", \"Social Media Hours\", \"PL/SPL Social Media Hours\", \"Concentration in Classes\", \"Confidence\"]\n",
        "X = newgpd[feature_cols]\n",
        "y = newgpd[\"Final Grade\"]"
      ],
      "execution_count": 5,
      "outputs": [
        {
          "output_type": "stream",
          "name": "stdout",
          "text": [
            "   Daily Study Hour  Average CT Marks  ...  Confidence  Final Grade\n",
            "1                 2                12  ...           7         3.84\n",
            "2                 2                15  ...           8         3.61\n",
            "3                 1                 9  ...           9         3.41\n",
            "4                 1                 8  ...           4         3.14\n",
            "5                 2                15  ...           9         3.88\n",
            "\n",
            "[5 rows x 11 columns]\n"
          ]
        }
      ]
    },
    {
      "cell_type": "code",
      "metadata": {
        "colab": {
          "base_uri": "https://localhost:8080/",
          "height": 224
        },
        "id": "63gGSphT-dLF",
        "outputId": "cf800e7c-31dd-4e96-fdd0-13478e334742"
      },
      "source": [
        "X.head()"
      ],
      "execution_count": 6,
      "outputs": [
        {
          "output_type": "execute_result",
          "data": {
            "text/html": [
              "<div>\n",
              "<style scoped>\n",
              "    .dataframe tbody tr th:only-of-type {\n",
              "        vertical-align: middle;\n",
              "    }\n",
              "\n",
              "    .dataframe tbody tr th {\n",
              "        vertical-align: top;\n",
              "    }\n",
              "\n",
              "    .dataframe thead th {\n",
              "        text-align: right;\n",
              "    }\n",
              "</style>\n",
              "<table border=\"1\" class=\"dataframe\">\n",
              "  <thead>\n",
              "    <tr style=\"text-align: right;\">\n",
              "      <th></th>\n",
              "      <th>Daily Study Hour</th>\n",
              "      <th>Average CT Marks</th>\n",
              "      <th>Class Attendance</th>\n",
              "      <th>PL/SPL Study Hours</th>\n",
              "      <th>PL/SPL Sleeping Hours</th>\n",
              "      <th>Average Sleeping Hours</th>\n",
              "      <th>Social Media Hours</th>\n",
              "      <th>PL/SPL Social Media Hours</th>\n",
              "      <th>Concentration in Classes</th>\n",
              "      <th>Confidence</th>\n",
              "    </tr>\n",
              "  </thead>\n",
              "  <tbody>\n",
              "    <tr>\n",
              "      <th>1</th>\n",
              "      <td>2</td>\n",
              "      <td>12</td>\n",
              "      <td>95</td>\n",
              "      <td>9</td>\n",
              "      <td>10</td>\n",
              "      <td>10.0</td>\n",
              "      <td>2</td>\n",
              "      <td>1</td>\n",
              "      <td>7.0</td>\n",
              "      <td>7</td>\n",
              "    </tr>\n",
              "    <tr>\n",
              "      <th>2</th>\n",
              "      <td>2</td>\n",
              "      <td>15</td>\n",
              "      <td>96</td>\n",
              "      <td>13</td>\n",
              "      <td>6</td>\n",
              "      <td>8.0</td>\n",
              "      <td>5</td>\n",
              "      <td>2</td>\n",
              "      <td>5.0</td>\n",
              "      <td>8</td>\n",
              "    </tr>\n",
              "    <tr>\n",
              "      <th>3</th>\n",
              "      <td>1</td>\n",
              "      <td>9</td>\n",
              "      <td>70</td>\n",
              "      <td>6</td>\n",
              "      <td>8</td>\n",
              "      <td>8.0</td>\n",
              "      <td>3</td>\n",
              "      <td>2</td>\n",
              "      <td>7.0</td>\n",
              "      <td>9</td>\n",
              "    </tr>\n",
              "    <tr>\n",
              "      <th>4</th>\n",
              "      <td>1</td>\n",
              "      <td>8</td>\n",
              "      <td>60</td>\n",
              "      <td>10</td>\n",
              "      <td>9</td>\n",
              "      <td>8.0</td>\n",
              "      <td>2</td>\n",
              "      <td>2</td>\n",
              "      <td>3.0</td>\n",
              "      <td>4</td>\n",
              "    </tr>\n",
              "    <tr>\n",
              "      <th>5</th>\n",
              "      <td>2</td>\n",
              "      <td>15</td>\n",
              "      <td>80</td>\n",
              "      <td>10</td>\n",
              "      <td>5</td>\n",
              "      <td>7.0</td>\n",
              "      <td>1</td>\n",
              "      <td>0</td>\n",
              "      <td>7.0</td>\n",
              "      <td>9</td>\n",
              "    </tr>\n",
              "  </tbody>\n",
              "</table>\n",
              "</div>"
            ],
            "text/plain": [
              "   Daily Study Hour  Average CT Marks  ...  Concentration in Classes  Confidence\n",
              "1                 2                12  ...                       7.0           7\n",
              "2                 2                15  ...                       5.0           8\n",
              "3                 1                 9  ...                       7.0           9\n",
              "4                 1                 8  ...                       3.0           4\n",
              "5                 2                15  ...                       7.0           9\n",
              "\n",
              "[5 rows x 10 columns]"
            ]
          },
          "metadata": {},
          "execution_count": 6
        }
      ]
    },
    {
      "cell_type": "code",
      "metadata": {
        "colab": {
          "base_uri": "https://localhost:8080/"
        },
        "id": "B0ICMnJ0-8DQ",
        "outputId": "ae607f80-7e9a-4e2d-98ad-7c3465284431"
      },
      "source": [
        "y.head()"
      ],
      "execution_count": 7,
      "outputs": [
        {
          "output_type": "execute_result",
          "data": {
            "text/plain": [
              "1    3.84\n",
              "2    3.61\n",
              "3    3.41\n",
              "4    3.14\n",
              "5    3.88\n",
              "Name: Final Grade, dtype: float64"
            ]
          },
          "metadata": {},
          "execution_count": 7
        }
      ]
    },
    {
      "cell_type": "markdown",
      "metadata": {
        "id": "88WEZ2M0D_vx"
      },
      "source": [
        "**Categorize Final Result**\n",
        "\n",
        "\n",
        "```\n",
        "(2.00 - 2.80) => Very low \n",
        "(2.81 - 3.00) => Low \n",
        "(3.01 - 3.20) => Moderate \n",
        "(3.21 - 3.50) => Good\n",
        "(3.51 - 3.75) => Very Good \n",
        "(3.76 - 4.00) => Topper\n",
        "```\n",
        "\n"
      ]
    },
    {
      "cell_type": "code",
      "metadata": {
        "id": "ZESRt8CS-9EJ",
        "colab": {
          "base_uri": "https://localhost:8080/"
        },
        "outputId": "d9ee5ccc-98ac-459a-9ad3-98657a20f85f"
      },
      "source": [
        "newgpd[\"Output\"] = pd.cut(y, bins=[0, 2.75, 3.00, 3.20, 3.50, 3.75, 4.00], labels=[\"Very Low\", \"Low\", \"Moderate\", \"Good\", \"Very Good\", \"Topper\"])\n",
        "#gpd[\"Output\"] = pd.cut(y, bins=[0, 2.80, 3.00, 3.20, 3.50, 4.00], labels=[0, 1, 2, 3, 4])"
      ],
      "execution_count": 8,
      "outputs": [
        {
          "output_type": "stream",
          "name": "stderr",
          "text": [
            "/usr/local/lib/python3.7/dist-packages/ipykernel_launcher.py:1: SettingWithCopyWarning: \n",
            "A value is trying to be set on a copy of a slice from a DataFrame.\n",
            "Try using .loc[row_indexer,col_indexer] = value instead\n",
            "\n",
            "See the caveats in the documentation: https://pandas.pydata.org/pandas-docs/stable/user_guide/indexing.html#returning-a-view-versus-a-copy\n",
            "  \"\"\"Entry point for launching an IPython kernel.\n"
          ]
        }
      ]
    },
    {
      "cell_type": "code",
      "metadata": {
        "colab": {
          "base_uri": "https://localhost:8080/",
          "height": 258
        },
        "id": "Jwki-SB0_qbY",
        "outputId": "1e808f4d-2500-4b99-f028-8bd66e806c31"
      },
      "source": [
        "newgpd.head()"
      ],
      "execution_count": 9,
      "outputs": [
        {
          "output_type": "execute_result",
          "data": {
            "text/html": [
              "<div>\n",
              "<style scoped>\n",
              "    .dataframe tbody tr th:only-of-type {\n",
              "        vertical-align: middle;\n",
              "    }\n",
              "\n",
              "    .dataframe tbody tr th {\n",
              "        vertical-align: top;\n",
              "    }\n",
              "\n",
              "    .dataframe thead th {\n",
              "        text-align: right;\n",
              "    }\n",
              "</style>\n",
              "<table border=\"1\" class=\"dataframe\">\n",
              "  <thead>\n",
              "    <tr style=\"text-align: right;\">\n",
              "      <th></th>\n",
              "      <th>Daily Study Hour</th>\n",
              "      <th>Average CT Marks</th>\n",
              "      <th>Class Attendance</th>\n",
              "      <th>PL/SPL Study Hours</th>\n",
              "      <th>PL/SPL Sleeping Hours</th>\n",
              "      <th>Average Sleeping Hours</th>\n",
              "      <th>Social Media Hours</th>\n",
              "      <th>PL/SPL Social Media Hours</th>\n",
              "      <th>Concentration in Classes</th>\n",
              "      <th>Confidence</th>\n",
              "      <th>Final Grade</th>\n",
              "      <th>Output</th>\n",
              "    </tr>\n",
              "  </thead>\n",
              "  <tbody>\n",
              "    <tr>\n",
              "      <th>1</th>\n",
              "      <td>2</td>\n",
              "      <td>12</td>\n",
              "      <td>95</td>\n",
              "      <td>9</td>\n",
              "      <td>10</td>\n",
              "      <td>10.0</td>\n",
              "      <td>2</td>\n",
              "      <td>1</td>\n",
              "      <td>7.0</td>\n",
              "      <td>7</td>\n",
              "      <td>3.84</td>\n",
              "      <td>Topper</td>\n",
              "    </tr>\n",
              "    <tr>\n",
              "      <th>2</th>\n",
              "      <td>2</td>\n",
              "      <td>15</td>\n",
              "      <td>96</td>\n",
              "      <td>13</td>\n",
              "      <td>6</td>\n",
              "      <td>8.0</td>\n",
              "      <td>5</td>\n",
              "      <td>2</td>\n",
              "      <td>5.0</td>\n",
              "      <td>8</td>\n",
              "      <td>3.61</td>\n",
              "      <td>Very Good</td>\n",
              "    </tr>\n",
              "    <tr>\n",
              "      <th>3</th>\n",
              "      <td>1</td>\n",
              "      <td>9</td>\n",
              "      <td>70</td>\n",
              "      <td>6</td>\n",
              "      <td>8</td>\n",
              "      <td>8.0</td>\n",
              "      <td>3</td>\n",
              "      <td>2</td>\n",
              "      <td>7.0</td>\n",
              "      <td>9</td>\n",
              "      <td>3.41</td>\n",
              "      <td>Good</td>\n",
              "    </tr>\n",
              "    <tr>\n",
              "      <th>4</th>\n",
              "      <td>1</td>\n",
              "      <td>8</td>\n",
              "      <td>60</td>\n",
              "      <td>10</td>\n",
              "      <td>9</td>\n",
              "      <td>8.0</td>\n",
              "      <td>2</td>\n",
              "      <td>2</td>\n",
              "      <td>3.0</td>\n",
              "      <td>4</td>\n",
              "      <td>3.14</td>\n",
              "      <td>Moderate</td>\n",
              "    </tr>\n",
              "    <tr>\n",
              "      <th>5</th>\n",
              "      <td>2</td>\n",
              "      <td>15</td>\n",
              "      <td>80</td>\n",
              "      <td>10</td>\n",
              "      <td>5</td>\n",
              "      <td>7.0</td>\n",
              "      <td>1</td>\n",
              "      <td>0</td>\n",
              "      <td>7.0</td>\n",
              "      <td>9</td>\n",
              "      <td>3.88</td>\n",
              "      <td>Topper</td>\n",
              "    </tr>\n",
              "  </tbody>\n",
              "</table>\n",
              "</div>"
            ],
            "text/plain": [
              "   Daily Study Hour  Average CT Marks  ...  Final Grade     Output\n",
              "1                 2                12  ...         3.84     Topper\n",
              "2                 2                15  ...         3.61  Very Good\n",
              "3                 1                 9  ...         3.41       Good\n",
              "4                 1                 8  ...         3.14   Moderate\n",
              "5                 2                15  ...         3.88     Topper\n",
              "\n",
              "[5 rows x 12 columns]"
            ]
          },
          "metadata": {},
          "execution_count": 9
        }
      ]
    },
    {
      "cell_type": "markdown",
      "metadata": {
        "id": "79s5IYhnARjL"
      },
      "source": [
        "**Categorize Final Result**"
      ]
    },
    {
      "cell_type": "code",
      "metadata": {
        "id": "mWi6okaTAJcw"
      },
      "source": [
        "y = newgpd.Output"
      ],
      "execution_count": 10,
      "outputs": []
    },
    {
      "cell_type": "code",
      "metadata": {
        "colab": {
          "base_uri": "https://localhost:8080/"
        },
        "id": "c2bC2Or8EqkN",
        "outputId": "a47ae2cf-ad8f-4ef3-e044-1270b98cf944"
      },
      "source": [
        "print(y.shape)"
      ],
      "execution_count": 11,
      "outputs": [
        {
          "output_type": "stream",
          "name": "stdout",
          "text": [
            "(87,)\n"
          ]
        }
      ]
    },
    {
      "cell_type": "code",
      "metadata": {
        "id": "hpXv6WirGBP2"
      },
      "source": [
        ""
      ],
      "execution_count": 11,
      "outputs": []
    },
    {
      "cell_type": "code",
      "metadata": {
        "colab": {
          "base_uri": "https://localhost:8080/",
          "height": 258
        },
        "id": "utXAzltiGMxF",
        "outputId": "082dec7e-b102-4081-f3dd-0a0011786bd3"
      },
      "source": [
        "newgpd.head()"
      ],
      "execution_count": 12,
      "outputs": [
        {
          "output_type": "execute_result",
          "data": {
            "text/html": [
              "<div>\n",
              "<style scoped>\n",
              "    .dataframe tbody tr th:only-of-type {\n",
              "        vertical-align: middle;\n",
              "    }\n",
              "\n",
              "    .dataframe tbody tr th {\n",
              "        vertical-align: top;\n",
              "    }\n",
              "\n",
              "    .dataframe thead th {\n",
              "        text-align: right;\n",
              "    }\n",
              "</style>\n",
              "<table border=\"1\" class=\"dataframe\">\n",
              "  <thead>\n",
              "    <tr style=\"text-align: right;\">\n",
              "      <th></th>\n",
              "      <th>Daily Study Hour</th>\n",
              "      <th>Average CT Marks</th>\n",
              "      <th>Class Attendance</th>\n",
              "      <th>PL/SPL Study Hours</th>\n",
              "      <th>PL/SPL Sleeping Hours</th>\n",
              "      <th>Average Sleeping Hours</th>\n",
              "      <th>Social Media Hours</th>\n",
              "      <th>PL/SPL Social Media Hours</th>\n",
              "      <th>Concentration in Classes</th>\n",
              "      <th>Confidence</th>\n",
              "      <th>Final Grade</th>\n",
              "      <th>Output</th>\n",
              "    </tr>\n",
              "  </thead>\n",
              "  <tbody>\n",
              "    <tr>\n",
              "      <th>1</th>\n",
              "      <td>2</td>\n",
              "      <td>12</td>\n",
              "      <td>95</td>\n",
              "      <td>9</td>\n",
              "      <td>10</td>\n",
              "      <td>10.0</td>\n",
              "      <td>2</td>\n",
              "      <td>1</td>\n",
              "      <td>7.0</td>\n",
              "      <td>7</td>\n",
              "      <td>3.84</td>\n",
              "      <td>Topper</td>\n",
              "    </tr>\n",
              "    <tr>\n",
              "      <th>2</th>\n",
              "      <td>2</td>\n",
              "      <td>15</td>\n",
              "      <td>96</td>\n",
              "      <td>13</td>\n",
              "      <td>6</td>\n",
              "      <td>8.0</td>\n",
              "      <td>5</td>\n",
              "      <td>2</td>\n",
              "      <td>5.0</td>\n",
              "      <td>8</td>\n",
              "      <td>3.61</td>\n",
              "      <td>Very Good</td>\n",
              "    </tr>\n",
              "    <tr>\n",
              "      <th>3</th>\n",
              "      <td>1</td>\n",
              "      <td>9</td>\n",
              "      <td>70</td>\n",
              "      <td>6</td>\n",
              "      <td>8</td>\n",
              "      <td>8.0</td>\n",
              "      <td>3</td>\n",
              "      <td>2</td>\n",
              "      <td>7.0</td>\n",
              "      <td>9</td>\n",
              "      <td>3.41</td>\n",
              "      <td>Good</td>\n",
              "    </tr>\n",
              "    <tr>\n",
              "      <th>4</th>\n",
              "      <td>1</td>\n",
              "      <td>8</td>\n",
              "      <td>60</td>\n",
              "      <td>10</td>\n",
              "      <td>9</td>\n",
              "      <td>8.0</td>\n",
              "      <td>2</td>\n",
              "      <td>2</td>\n",
              "      <td>3.0</td>\n",
              "      <td>4</td>\n",
              "      <td>3.14</td>\n",
              "      <td>Moderate</td>\n",
              "    </tr>\n",
              "    <tr>\n",
              "      <th>5</th>\n",
              "      <td>2</td>\n",
              "      <td>15</td>\n",
              "      <td>80</td>\n",
              "      <td>10</td>\n",
              "      <td>5</td>\n",
              "      <td>7.0</td>\n",
              "      <td>1</td>\n",
              "      <td>0</td>\n",
              "      <td>7.0</td>\n",
              "      <td>9</td>\n",
              "      <td>3.88</td>\n",
              "      <td>Topper</td>\n",
              "    </tr>\n",
              "  </tbody>\n",
              "</table>\n",
              "</div>"
            ],
            "text/plain": [
              "   Daily Study Hour  Average CT Marks  ...  Final Grade     Output\n",
              "1                 2                12  ...         3.84     Topper\n",
              "2                 2                15  ...         3.61  Very Good\n",
              "3                 1                 9  ...         3.41       Good\n",
              "4                 1                 8  ...         3.14   Moderate\n",
              "5                 2                15  ...         3.88     Topper\n",
              "\n",
              "[5 rows x 12 columns]"
            ]
          },
          "metadata": {},
          "execution_count": 12
        }
      ]
    },
    {
      "cell_type": "code",
      "metadata": {
        "colab": {
          "base_uri": "https://localhost:8080/"
        },
        "id": "cA9VGzVNEsn7",
        "outputId": "4c4015b3-a6c5-4b12-95e1-224ffc949285"
      },
      "source": [
        "X_train, X_test, y_train, y_test = train_test_split(X, y, test_size=0.2, random_state= 42)\n",
        "print(X_train.shape, y_train.shape)"
      ],
      "execution_count": 13,
      "outputs": [
        {
          "output_type": "stream",
          "name": "stdout",
          "text": [
            "(69, 10) (69,)\n"
          ]
        }
      ]
    },
    {
      "cell_type": "code",
      "metadata": {
        "colab": {
          "base_uri": "https://localhost:8080/"
        },
        "id": "7x_6eshnE9Me",
        "outputId": "e06060f1-0db9-4ab7-8f25-468493899708"
      },
      "source": [
        "DT = DecisionTreeClassifier(criterion=\"gini\")\n",
        "DT = DT.fit(X_train, y_train)\n",
        "y_pred = DT.predict(X_test)\n",
        "\n",
        "print(\"Accurary: \", accuracy_score(y_test, y_pred))"
      ],
      "execution_count": 14,
      "outputs": [
        {
          "output_type": "stream",
          "name": "stdout",
          "text": [
            "Accurary:  0.5\n"
          ]
        }
      ]
    },
    {
      "cell_type": "code",
      "metadata": {
        "colab": {
          "base_uri": "https://localhost:8080/",
          "height": 735
        },
        "id": "GKNUfPylH3A1",
        "outputId": "44ceb3d7-e92b-455e-d32e-fdde2c5f25d4"
      },
      "source": [
        "import graphviz\n",
        "dot_data = tree.export_graphviz(DT, max_depth=3, feature_names = feature_cols, class_names = [\"Very Low\", \"Low\", \"Moderate\", \"Good\", \"High\"],\n",
        "                                filled=True, rounded = True,\n",
        "                                special_characters = True)\n",
        "graph = graphviz.Source(dot_data)\n",
        "graph"
      ],
      "execution_count": 15,
      "outputs": [
        {
          "output_type": "execute_result",
          "data": {
            "text/plain": [
              "<graphviz.files.Source at 0x7fb2a66d6d50>"
            ],
            "image/svg+xml": "<?xml version=\"1.0\" encoding=\"UTF-8\" standalone=\"no\"?>\n<!DOCTYPE svg PUBLIC \"-//W3C//DTD SVG 1.1//EN\"\n \"http://www.w3.org/Graphics/SVG/1.1/DTD/svg11.dtd\">\n<!-- Generated by graphviz version 2.40.1 (20161225.0304)\n -->\n<!-- Title: Tree Pages: 1 -->\n<svg width=\"1106pt\" height=\"520pt\"\n viewBox=\"0.00 0.00 1106.00 520.00\" xmlns=\"http://www.w3.org/2000/svg\" xmlns:xlink=\"http://www.w3.org/1999/xlink\">\n<g id=\"graph0\" class=\"graph\" transform=\"scale(1 1) rotate(0) translate(4 516)\">\n<title>Tree</title>\n<polygon fill=\"#ffffff\" stroke=\"transparent\" points=\"-4,4 -4,-516 1102,-516 1102,4 -4,4\"/>\n<!-- 0 -->\n<g id=\"node1\" class=\"node\">\n<title>0</title>\n<path fill=\"#b3b2f5\" stroke=\"#000000\" d=\"M769,-512C769,-512 611,-512 611,-512 605,-512 599,-506 599,-500 599,-500 599,-441 599,-441 599,-435 605,-429 611,-429 611,-429 769,-429 769,-429 775,-429 781,-435 781,-441 781,-441 781,-500 781,-500 781,-506 775,-512 769,-512\"/>\n<text text-anchor=\"start\" x=\"607\" y=\"-496.8\" font-family=\"Helvetica,sans-Serif\" font-size=\"14.00\" fill=\"#000000\">Average CT Marks ≤ 14.5</text>\n<text text-anchor=\"start\" x=\"656.5\" y=\"-481.8\" font-family=\"Helvetica,sans-Serif\" font-size=\"14.00\" fill=\"#000000\">gini = 0.65</text>\n<text text-anchor=\"start\" x=\"646\" y=\"-466.8\" font-family=\"Helvetica,sans-Serif\" font-size=\"14.00\" fill=\"#000000\">samples = 69</text>\n<text text-anchor=\"start\" x=\"612.5\" y=\"-451.8\" font-family=\"Helvetica,sans-Serif\" font-size=\"14.00\" fill=\"#000000\">value = [15, 4, 3, 36, 11]</text>\n<text text-anchor=\"start\" x=\"647\" y=\"-436.8\" font-family=\"Helvetica,sans-Serif\" font-size=\"14.00\" fill=\"#000000\">class = Good</text>\n</g>\n<!-- 1 -->\n<g id=\"node2\" class=\"node\">\n<title>1</title>\n<path fill=\"#f2f1fd\" stroke=\"#000000\" d=\"M587.5,-393C587.5,-393 438.5,-393 438.5,-393 432.5,-393 426.5,-387 426.5,-381 426.5,-381 426.5,-322 426.5,-322 426.5,-316 432.5,-310 438.5,-310 438.5,-310 587.5,-310 587.5,-310 593.5,-310 599.5,-316 599.5,-322 599.5,-322 599.5,-381 599.5,-381 599.5,-387 593.5,-393 587.5,-393\"/>\n<text text-anchor=\"start\" x=\"434.5\" y=\"-377.8\" font-family=\"Helvetica,sans-Serif\" font-size=\"14.00\" fill=\"#000000\">Average CT Marks ≤ 8.5</text>\n<text text-anchor=\"start\" x=\"475\" y=\"-362.8\" font-family=\"Helvetica,sans-Serif\" font-size=\"14.00\" fill=\"#000000\">gini = 0.735</text>\n<text text-anchor=\"start\" x=\"469\" y=\"-347.8\" font-family=\"Helvetica,sans-Serif\" font-size=\"14.00\" fill=\"#000000\">samples = 42</text>\n<text text-anchor=\"start\" x=\"439.5\" y=\"-332.8\" font-family=\"Helvetica,sans-Serif\" font-size=\"14.00\" fill=\"#000000\">value = [13, 4, 3, 15, 7]</text>\n<text text-anchor=\"start\" x=\"470\" y=\"-317.8\" font-family=\"Helvetica,sans-Serif\" font-size=\"14.00\" fill=\"#000000\">class = Good</text>\n</g>\n<!-- 0&#45;&gt;1 -->\n<g id=\"edge1\" class=\"edge\">\n<title>0&#45;&gt;1</title>\n<path fill=\"none\" stroke=\"#000000\" d=\"M628.094,-428.8796C613.677,-419.1868 598.222,-408.7961 583.4656,-398.8752\"/>\n<polygon fill=\"#000000\" stroke=\"#000000\" points=\"585.1227,-395.7718 574.8711,-393.0969 581.2171,-401.581 585.1227,-395.7718\"/>\n<text text-anchor=\"middle\" x=\"579.6783\" y=\"-413.9304\" font-family=\"Helvetica,sans-Serif\" font-size=\"14.00\" fill=\"#000000\">True</text>\n</g>\n<!-- 40 -->\n<g id=\"node13\" class=\"node\">\n<title>40</title>\n<path fill=\"#6f6dec\" stroke=\"#000000\" d=\"M892,-393C892,-393 702,-393 702,-393 696,-393 690,-387 690,-381 690,-381 690,-322 690,-322 690,-316 696,-310 702,-310 702,-310 892,-310 892,-310 898,-310 904,-316 904,-322 904,-322 904,-381 904,-381 904,-387 898,-393 892,-393\"/>\n<text text-anchor=\"start\" x=\"698\" y=\"-377.8\" font-family=\"Helvetica,sans-Serif\" font-size=\"14.00\" fill=\"#000000\">Concentration in Classes ≤ 7.5</text>\n<text text-anchor=\"start\" x=\"759\" y=\"-362.8\" font-family=\"Helvetica,sans-Serif\" font-size=\"14.00\" fill=\"#000000\">gini = 0.368</text>\n<text text-anchor=\"start\" x=\"753\" y=\"-347.8\" font-family=\"Helvetica,sans-Serif\" font-size=\"14.00\" fill=\"#000000\">samples = 27</text>\n<text text-anchor=\"start\" x=\"727.5\" y=\"-332.8\" font-family=\"Helvetica,sans-Serif\" font-size=\"14.00\" fill=\"#000000\">value = [2, 0, 0, 21, 4]</text>\n<text text-anchor=\"start\" x=\"754\" y=\"-317.8\" font-family=\"Helvetica,sans-Serif\" font-size=\"14.00\" fill=\"#000000\">class = Good</text>\n</g>\n<!-- 0&#45;&gt;40 -->\n<g id=\"edge12\" class=\"edge\">\n<title>0&#45;&gt;40</title>\n<path fill=\"none\" stroke=\"#000000\" d=\"M727.4234,-428.8796C735.5215,-419.8733 744.1614,-410.2644 752.5009,-400.9897\"/>\n<polygon fill=\"#000000\" stroke=\"#000000\" points=\"755.3333,-403.0743 759.4169,-393.2981 750.128,-398.394 755.3333,-403.0743\"/>\n<text text-anchor=\"middle\" x=\"760.7424\" y=\"-414.5629\" font-family=\"Helvetica,sans-Serif\" font-size=\"14.00\" fill=\"#000000\">False</text>\n</g>\n<!-- 2 -->\n<g id=\"node3\" class=\"node\">\n<title>2</title>\n<path fill=\"#bdf29c\" stroke=\"#000000\" d=\"M330,-274C330,-274 144,-274 144,-274 138,-274 132,-268 132,-262 132,-262 132,-203 132,-203 132,-197 138,-191 144,-191 144,-191 330,-191 330,-191 336,-191 342,-197 342,-203 342,-203 342,-262 342,-262 342,-268 336,-274 330,-274\"/>\n<text text-anchor=\"start\" x=\"140\" y=\"-258.8\" font-family=\"Helvetica,sans-Serif\" font-size=\"14.00\" fill=\"#000000\">Average Sleeping Hours ≤ 7.5</text>\n<text text-anchor=\"start\" x=\"199\" y=\"-243.8\" font-family=\"Helvetica,sans-Serif\" font-size=\"14.00\" fill=\"#000000\">gini = 0.444</text>\n<text text-anchor=\"start\" x=\"197.5\" y=\"-228.8\" font-family=\"Helvetica,sans-Serif\" font-size=\"14.00\" fill=\"#000000\">samples = 3</text>\n<text text-anchor=\"start\" x=\"172\" y=\"-213.8\" font-family=\"Helvetica,sans-Serif\" font-size=\"14.00\" fill=\"#000000\">value = [0, 2, 1, 0, 0]</text>\n<text text-anchor=\"start\" x=\"198.5\" y=\"-198.8\" font-family=\"Helvetica,sans-Serif\" font-size=\"14.00\" fill=\"#000000\">class = Low</text>\n</g>\n<!-- 1&#45;&gt;2 -->\n<g id=\"edge2\" class=\"edge\">\n<title>1&#45;&gt;2</title>\n<path fill=\"none\" stroke=\"#000000\" d=\"M426.4291,-314.1742C399.8689,-302.7225 370.3426,-289.9919 342.6568,-278.0549\"/>\n<polygon fill=\"#000000\" stroke=\"#000000\" points=\"343.9138,-274.7855 333.3452,-274.0401 341.1423,-281.2135 343.9138,-274.7855\"/>\n</g>\n<!-- 5 -->\n<g id=\"node6\" class=\"node\">\n<title>5</title>\n<path fill=\"#f0f0fd\" stroke=\"#000000\" d=\"M582.5,-274C582.5,-274 443.5,-274 443.5,-274 437.5,-274 431.5,-268 431.5,-262 431.5,-262 431.5,-203 431.5,-203 431.5,-197 437.5,-191 443.5,-191 443.5,-191 582.5,-191 582.5,-191 588.5,-191 594.5,-197 594.5,-203 594.5,-203 594.5,-262 594.5,-262 594.5,-268 588.5,-274 582.5,-274\"/>\n<text text-anchor=\"start\" x=\"458\" y=\"-258.8\" font-family=\"Helvetica,sans-Serif\" font-size=\"14.00\" fill=\"#000000\">Confidence ≤ 3.5</text>\n<text text-anchor=\"start\" x=\"475\" y=\"-243.8\" font-family=\"Helvetica,sans-Serif\" font-size=\"14.00\" fill=\"#000000\">gini = 0.703</text>\n<text text-anchor=\"start\" x=\"469\" y=\"-228.8\" font-family=\"Helvetica,sans-Serif\" font-size=\"14.00\" fill=\"#000000\">samples = 39</text>\n<text text-anchor=\"start\" x=\"439.5\" y=\"-213.8\" font-family=\"Helvetica,sans-Serif\" font-size=\"14.00\" fill=\"#000000\">value = [13, 2, 2, 15, 7]</text>\n<text text-anchor=\"start\" x=\"470\" y=\"-198.8\" font-family=\"Helvetica,sans-Serif\" font-size=\"14.00\" fill=\"#000000\">class = Good</text>\n</g>\n<!-- 1&#45;&gt;5 -->\n<g id=\"edge5\" class=\"edge\">\n<title>1&#45;&gt;5</title>\n<path fill=\"none\" stroke=\"#000000\" d=\"M513,-309.8796C513,-301.6838 513,-292.9891 513,-284.5013\"/>\n<polygon fill=\"#000000\" stroke=\"#000000\" points=\"516.5001,-284.298 513,-274.2981 509.5001,-284.2981 516.5001,-284.298\"/>\n</g>\n<!-- 3 -->\n<g id=\"node4\" class=\"node\">\n<title>3</title>\n<path fill=\"#7be539\" stroke=\"#000000\" d=\"M134,-147.5C134,-147.5 12,-147.5 12,-147.5 6,-147.5 0,-141.5 0,-135.5 0,-135.5 0,-91.5 0,-91.5 0,-85.5 6,-79.5 12,-79.5 12,-79.5 134,-79.5 134,-79.5 140,-79.5 146,-85.5 146,-91.5 146,-91.5 146,-135.5 146,-135.5 146,-141.5 140,-147.5 134,-147.5\"/>\n<text text-anchor=\"start\" x=\"43.5\" y=\"-132.3\" font-family=\"Helvetica,sans-Serif\" font-size=\"14.00\" fill=\"#000000\">gini = 0.0</text>\n<text text-anchor=\"start\" x=\"33.5\" y=\"-117.3\" font-family=\"Helvetica,sans-Serif\" font-size=\"14.00\" fill=\"#000000\">samples = 2</text>\n<text text-anchor=\"start\" x=\"8\" y=\"-102.3\" font-family=\"Helvetica,sans-Serif\" font-size=\"14.00\" fill=\"#000000\">value = [0, 2, 0, 0, 0]</text>\n<text text-anchor=\"start\" x=\"34.5\" y=\"-87.3\" font-family=\"Helvetica,sans-Serif\" font-size=\"14.00\" fill=\"#000000\">class = Low</text>\n</g>\n<!-- 2&#45;&gt;3 -->\n<g id=\"edge3\" class=\"edge\">\n<title>2&#45;&gt;3</title>\n<path fill=\"none\" stroke=\"#000000\" d=\"M179.6408,-190.8796C163.0439,-178.8368 144.9625,-165.7167 128.4824,-153.7586\"/>\n<polygon fill=\"#000000\" stroke=\"#000000\" points=\"130.176,-150.6632 120.0267,-147.623 126.0649,-156.3288 130.176,-150.6632\"/>\n</g>\n<!-- 4 -->\n<g id=\"node5\" class=\"node\">\n<title>4</title>\n<path fill=\"#39e5c5\" stroke=\"#000000\" d=\"M298,-147.5C298,-147.5 176,-147.5 176,-147.5 170,-147.5 164,-141.5 164,-135.5 164,-135.5 164,-91.5 164,-91.5 164,-85.5 170,-79.5 176,-79.5 176,-79.5 298,-79.5 298,-79.5 304,-79.5 310,-85.5 310,-91.5 310,-91.5 310,-135.5 310,-135.5 310,-141.5 304,-147.5 298,-147.5\"/>\n<text text-anchor=\"start\" x=\"207.5\" y=\"-132.3\" font-family=\"Helvetica,sans-Serif\" font-size=\"14.00\" fill=\"#000000\">gini = 0.0</text>\n<text text-anchor=\"start\" x=\"197.5\" y=\"-117.3\" font-family=\"Helvetica,sans-Serif\" font-size=\"14.00\" fill=\"#000000\">samples = 1</text>\n<text text-anchor=\"start\" x=\"172\" y=\"-102.3\" font-family=\"Helvetica,sans-Serif\" font-size=\"14.00\" fill=\"#000000\">value = [0, 0, 1, 0, 0]</text>\n<text text-anchor=\"start\" x=\"181\" y=\"-87.3\" font-family=\"Helvetica,sans-Serif\" font-size=\"14.00\" fill=\"#000000\">class = Moderate</text>\n</g>\n<!-- 2&#45;&gt;4 -->\n<g id=\"edge4\" class=\"edge\">\n<title>2&#45;&gt;4</title>\n<path fill=\"none\" stroke=\"#000000\" d=\"M237,-190.8796C237,-180.2134 237,-168.7021 237,-157.9015\"/>\n<polygon fill=\"#000000\" stroke=\"#000000\" points=\"240.5001,-157.8149 237,-147.8149 233.5001,-157.815 240.5001,-157.8149\"/>\n</g>\n<!-- 6 -->\n<g id=\"node7\" class=\"node\">\n<title>6</title>\n<path fill=\"#eca06a\" stroke=\"#000000\" d=\"M520,-155C520,-155 340,-155 340,-155 334,-155 328,-149 328,-143 328,-143 328,-84 328,-84 328,-78 334,-72 340,-72 340,-72 520,-72 520,-72 526,-72 532,-78 532,-84 532,-84 532,-143 532,-143 532,-149 526,-155 520,-155\"/>\n<text text-anchor=\"start\" x=\"336\" y=\"-139.8\" font-family=\"Helvetica,sans-Serif\" font-size=\"14.00\" fill=\"#000000\">PL/SPL Sleeping Hours ≤ 6.5</text>\n<text text-anchor=\"start\" x=\"396.5\" y=\"-124.8\" font-family=\"Helvetica,sans-Serif\" font-size=\"14.00\" fill=\"#000000\">gini = 0.32</text>\n<text text-anchor=\"start\" x=\"390.5\" y=\"-109.8\" font-family=\"Helvetica,sans-Serif\" font-size=\"14.00\" fill=\"#000000\">samples = 5</text>\n<text text-anchor=\"start\" x=\"365\" y=\"-94.8\" font-family=\"Helvetica,sans-Serif\" font-size=\"14.00\" fill=\"#000000\">value = [4, 0, 0, 1, 0]</text>\n<text text-anchor=\"start\" x=\"375\" y=\"-79.8\" font-family=\"Helvetica,sans-Serif\" font-size=\"14.00\" fill=\"#000000\">class = Very Low</text>\n</g>\n<!-- 5&#45;&gt;6 -->\n<g id=\"edge6\" class=\"edge\">\n<title>5&#45;&gt;6</title>\n<path fill=\"none\" stroke=\"#000000\" d=\"M483.9706,-190.8796C477.8145,-182.0534 471.2549,-172.6485 464.9064,-163.5466\"/>\n<polygon fill=\"#000000\" stroke=\"#000000\" points=\"467.7448,-161.4978 459.1533,-155.2981 462.0033,-165.5024 467.7448,-161.4978\"/>\n</g>\n<!-- 9 -->\n<g id=\"node10\" class=\"node\">\n<title>9</title>\n<path fill=\"#d8d7fa\" stroke=\"#000000\" d=\"M693.5,-155C693.5,-155 562.5,-155 562.5,-155 556.5,-155 550.5,-149 550.5,-143 550.5,-143 550.5,-84 550.5,-84 550.5,-78 556.5,-72 562.5,-72 562.5,-72 693.5,-72 693.5,-72 699.5,-72 705.5,-78 705.5,-84 705.5,-84 705.5,-143 705.5,-143 705.5,-149 699.5,-155 693.5,-155\"/>\n<text text-anchor=\"start\" x=\"573\" y=\"-139.8\" font-family=\"Helvetica,sans-Serif\" font-size=\"14.00\" fill=\"#000000\">Confidence ≤ 6.5</text>\n<text text-anchor=\"start\" x=\"590\" y=\"-124.8\" font-family=\"Helvetica,sans-Serif\" font-size=\"14.00\" fill=\"#000000\">gini = 0.711</text>\n<text text-anchor=\"start\" x=\"584\" y=\"-109.8\" font-family=\"Helvetica,sans-Serif\" font-size=\"14.00\" fill=\"#000000\">samples = 34</text>\n<text text-anchor=\"start\" x=\"558.5\" y=\"-94.8\" font-family=\"Helvetica,sans-Serif\" font-size=\"14.00\" fill=\"#000000\">value = [9, 2, 2, 14, 7]</text>\n<text text-anchor=\"start\" x=\"585\" y=\"-79.8\" font-family=\"Helvetica,sans-Serif\" font-size=\"14.00\" fill=\"#000000\">class = Good</text>\n</g>\n<!-- 5&#45;&gt;9 -->\n<g id=\"edge9\" class=\"edge\">\n<title>5&#45;&gt;9</title>\n<path fill=\"none\" stroke=\"#000000\" d=\"M553.2214,-190.8796C562.012,-181.7832 571.3966,-172.0722 580.4426,-162.7116\"/>\n<polygon fill=\"#000000\" stroke=\"#000000\" points=\"583.1745,-164.9212 587.6069,-155.2981 578.1409,-160.0568 583.1745,-164.9212\"/>\n</g>\n<!-- 7 -->\n<g id=\"node8\" class=\"node\">\n<title>7</title>\n<path fill=\"#c0c0c0\" stroke=\"#000000\" d=\"M400,-36C400,-36 370,-36 370,-36 364,-36 358,-30 358,-24 358,-24 358,-12 358,-12 358,-6 364,0 370,0 370,0 400,0 400,0 406,0 412,-6 412,-12 412,-12 412,-24 412,-24 412,-30 406,-36 400,-36\"/>\n<text text-anchor=\"middle\" x=\"385\" y=\"-14.3\" font-family=\"Helvetica,sans-Serif\" font-size=\"14.00\" fill=\"#000000\">(...)</text>\n</g>\n<!-- 6&#45;&gt;7 -->\n<g id=\"edge7\" class=\"edge\">\n<title>6&#45;&gt;7</title>\n<path fill=\"none\" stroke=\"#000000\" d=\"M410.3933,-71.8901C406.1715,-62.9305 401.8115,-53.6777 397.9212,-45.4217\"/>\n<polygon fill=\"#000000\" stroke=\"#000000\" points=\"401.0353,-43.8192 393.6066,-36.2651 394.7031,-46.8031 401.0353,-43.8192\"/>\n</g>\n<!-- 8 -->\n<g id=\"node9\" class=\"node\">\n<title>8</title>\n<path fill=\"#c0c0c0\" stroke=\"#000000\" d=\"M472,-36C472,-36 442,-36 442,-36 436,-36 430,-30 430,-24 430,-24 430,-12 430,-12 430,-6 436,0 442,0 442,0 472,0 472,0 478,0 484,-6 484,-12 484,-12 484,-24 484,-24 484,-30 478,-36 472,-36\"/>\n<text text-anchor=\"middle\" x=\"457\" y=\"-14.3\" font-family=\"Helvetica,sans-Serif\" font-size=\"14.00\" fill=\"#000000\">(...)</text>\n</g>\n<!-- 6&#45;&gt;8 -->\n<g id=\"edge8\" class=\"edge\">\n<title>6&#45;&gt;8</title>\n<path fill=\"none\" stroke=\"#000000\" d=\"M441.764,-71.8901C444.2421,-63.1253 446.7994,-54.0798 449.0946,-45.9615\"/>\n<polygon fill=\"#000000\" stroke=\"#000000\" points=\"452.4834,-46.8401 451.836,-36.2651 445.7474,-44.9357 452.4834,-46.8401\"/>\n</g>\n<!-- 10 -->\n<g id=\"node11\" class=\"node\">\n<title>10</title>\n<path fill=\"#c0c0c0\" stroke=\"#000000\" d=\"M607,-36C607,-36 577,-36 577,-36 571,-36 565,-30 565,-24 565,-24 565,-12 565,-12 565,-6 571,0 577,0 577,0 607,0 607,0 613,0 619,-6 619,-12 619,-12 619,-24 619,-24 619,-30 613,-36 607,-36\"/>\n<text text-anchor=\"middle\" x=\"592\" y=\"-14.3\" font-family=\"Helvetica,sans-Serif\" font-size=\"14.00\" fill=\"#000000\">(...)</text>\n</g>\n<!-- 9&#45;&gt;10 -->\n<g id=\"edge10\" class=\"edge\">\n<title>9&#45;&gt;10</title>\n<path fill=\"none\" stroke=\"#000000\" d=\"M612.3146,-71.8901C608.9739,-63.0279 605.525,-53.8788 602.4386,-45.6913\"/>\n<polygon fill=\"#000000\" stroke=\"#000000\" points=\"605.6877,-44.3878 598.8853,-36.2651 599.1376,-46.8569 605.6877,-44.3878\"/>\n</g>\n<!-- 21 -->\n<g id=\"node12\" class=\"node\">\n<title>21</title>\n<path fill=\"#c0c0c0\" stroke=\"#000000\" d=\"M679,-36C679,-36 649,-36 649,-36 643,-36 637,-30 637,-24 637,-24 637,-12 637,-12 637,-6 643,0 649,0 649,0 679,0 679,0 685,0 691,-6 691,-12 691,-12 691,-24 691,-24 691,-30 685,-36 679,-36\"/>\n<text text-anchor=\"middle\" x=\"664\" y=\"-14.3\" font-family=\"Helvetica,sans-Serif\" font-size=\"14.00\" fill=\"#000000\">(...)</text>\n</g>\n<!-- 9&#45;&gt;21 -->\n<g id=\"edge11\" class=\"edge\">\n<title>9&#45;&gt;21</title>\n<path fill=\"none\" stroke=\"#000000\" d=\"M643.6854,-71.8901C647.0261,-63.0279 650.475,-53.8788 653.5614,-45.6913\"/>\n<polygon fill=\"#000000\" stroke=\"#000000\" points=\"656.8624,-46.8569 657.1147,-36.2651 650.3123,-44.3878 656.8624,-46.8569\"/>\n</g>\n<!-- 41 -->\n<g id=\"node14\" class=\"node\">\n<title>41</title>\n<path fill=\"#e3e3fb\" stroke=\"#000000\" d=\"M858,-274C858,-274 736,-274 736,-274 730,-274 724,-268 724,-262 724,-262 724,-203 724,-203 724,-197 730,-191 736,-191 736,-191 858,-191 858,-191 864,-191 870,-197 870,-203 870,-203 870,-262 870,-262 870,-268 864,-274 858,-274\"/>\n<text text-anchor=\"start\" x=\"742\" y=\"-258.8\" font-family=\"Helvetica,sans-Serif\" font-size=\"14.00\" fill=\"#000000\">Confidence ≤ 4.5</text>\n<text text-anchor=\"start\" x=\"759\" y=\"-243.8\" font-family=\"Helvetica,sans-Serif\" font-size=\"14.00\" fill=\"#000000\">gini = 0.628</text>\n<text text-anchor=\"start\" x=\"753\" y=\"-228.8\" font-family=\"Helvetica,sans-Serif\" font-size=\"14.00\" fill=\"#000000\">samples = 11</text>\n<text text-anchor=\"start\" x=\"732\" y=\"-213.8\" font-family=\"Helvetica,sans-Serif\" font-size=\"14.00\" fill=\"#000000\">value = [2, 0, 0, 5, 4]</text>\n<text text-anchor=\"start\" x=\"754\" y=\"-198.8\" font-family=\"Helvetica,sans-Serif\" font-size=\"14.00\" fill=\"#000000\">class = Good</text>\n</g>\n<!-- 40&#45;&gt;41 -->\n<g id=\"edge13\" class=\"edge\">\n<title>40&#45;&gt;41</title>\n<path fill=\"none\" stroke=\"#000000\" d=\"M797,-309.8796C797,-301.6838 797,-292.9891 797,-284.5013\"/>\n<polygon fill=\"#000000\" stroke=\"#000000\" points=\"800.5001,-284.298 797,-274.2981 793.5001,-284.2981 800.5001,-284.298\"/>\n</g>\n<!-- 50 -->\n<g id=\"node19\" class=\"node\">\n<title>50</title>\n<path fill=\"#3c39e5\" stroke=\"#000000\" d=\"M1031.5,-266.5C1031.5,-266.5 900.5,-266.5 900.5,-266.5 894.5,-266.5 888.5,-260.5 888.5,-254.5 888.5,-254.5 888.5,-210.5 888.5,-210.5 888.5,-204.5 894.5,-198.5 900.5,-198.5 900.5,-198.5 1031.5,-198.5 1031.5,-198.5 1037.5,-198.5 1043.5,-204.5 1043.5,-210.5 1043.5,-210.5 1043.5,-254.5 1043.5,-254.5 1043.5,-260.5 1037.5,-266.5 1031.5,-266.5\"/>\n<text text-anchor=\"start\" x=\"936.5\" y=\"-251.3\" font-family=\"Helvetica,sans-Serif\" font-size=\"14.00\" fill=\"#000000\">gini = 0.0</text>\n<text text-anchor=\"start\" x=\"922\" y=\"-236.3\" font-family=\"Helvetica,sans-Serif\" font-size=\"14.00\" fill=\"#000000\">samples = 16</text>\n<text text-anchor=\"start\" x=\"896.5\" y=\"-221.3\" font-family=\"Helvetica,sans-Serif\" font-size=\"14.00\" fill=\"#000000\">value = [0, 0, 0, 16, 0]</text>\n<text text-anchor=\"start\" x=\"923\" y=\"-206.3\" font-family=\"Helvetica,sans-Serif\" font-size=\"14.00\" fill=\"#000000\">class = Good</text>\n</g>\n<!-- 40&#45;&gt;50 -->\n<g id=\"edge18\" class=\"edge\">\n<title>40&#45;&gt;50</title>\n<path fill=\"none\" stroke=\"#000000\" d=\"M856.108,-309.8796C873.3677,-297.7263 892.1856,-284.4759 909.293,-272.4297\"/>\n<polygon fill=\"#000000\" stroke=\"#000000\" points=\"911.3782,-275.2421 917.5396,-266.623 907.3481,-269.5187 911.3782,-275.2421\"/>\n</g>\n<!-- 42 -->\n<g id=\"node15\" class=\"node\">\n<title>42</title>\n<path fill=\"#3c39e5\" stroke=\"#000000\" d=\"M858,-147.5C858,-147.5 736,-147.5 736,-147.5 730,-147.5 724,-141.5 724,-135.5 724,-135.5 724,-91.5 724,-91.5 724,-85.5 730,-79.5 736,-79.5 736,-79.5 858,-79.5 858,-79.5 864,-79.5 870,-85.5 870,-91.5 870,-91.5 870,-135.5 870,-135.5 870,-141.5 864,-147.5 858,-147.5\"/>\n<text text-anchor=\"start\" x=\"767.5\" y=\"-132.3\" font-family=\"Helvetica,sans-Serif\" font-size=\"14.00\" fill=\"#000000\">gini = 0.0</text>\n<text text-anchor=\"start\" x=\"757.5\" y=\"-117.3\" font-family=\"Helvetica,sans-Serif\" font-size=\"14.00\" fill=\"#000000\">samples = 3</text>\n<text text-anchor=\"start\" x=\"732\" y=\"-102.3\" font-family=\"Helvetica,sans-Serif\" font-size=\"14.00\" fill=\"#000000\">value = [0, 0, 0, 3, 0]</text>\n<text text-anchor=\"start\" x=\"754\" y=\"-87.3\" font-family=\"Helvetica,sans-Serif\" font-size=\"14.00\" fill=\"#000000\">class = Good</text>\n</g>\n<!-- 41&#45;&gt;42 -->\n<g id=\"edge14\" class=\"edge\">\n<title>41&#45;&gt;42</title>\n<path fill=\"none\" stroke=\"#000000\" d=\"M797,-190.8796C797,-180.2134 797,-168.7021 797,-157.9015\"/>\n<polygon fill=\"#000000\" stroke=\"#000000\" points=\"800.5001,-157.8149 797,-147.8149 793.5001,-157.815 800.5001,-157.8149\"/>\n</g>\n<!-- 43 -->\n<g id=\"node16\" class=\"node\">\n<title>43</title>\n<path fill=\"#f6bdea\" stroke=\"#000000\" d=\"M1086,-155C1086,-155 900,-155 900,-155 894,-155 888,-149 888,-143 888,-143 888,-84 888,-84 888,-78 894,-72 900,-72 900,-72 1086,-72 1086,-72 1092,-72 1098,-78 1098,-84 1098,-84 1098,-143 1098,-143 1098,-149 1092,-155 1086,-155\"/>\n<text text-anchor=\"start\" x=\"896\" y=\"-139.8\" font-family=\"Helvetica,sans-Serif\" font-size=\"14.00\" fill=\"#000000\">Average Sleeping Hours ≤ 7.5</text>\n<text text-anchor=\"start\" x=\"955\" y=\"-124.8\" font-family=\"Helvetica,sans-Serif\" font-size=\"14.00\" fill=\"#000000\">gini = 0.625</text>\n<text text-anchor=\"start\" x=\"953.5\" y=\"-109.8\" font-family=\"Helvetica,sans-Serif\" font-size=\"14.00\" fill=\"#000000\">samples = 8</text>\n<text text-anchor=\"start\" x=\"928\" y=\"-94.8\" font-family=\"Helvetica,sans-Serif\" font-size=\"14.00\" fill=\"#000000\">value = [2, 0, 0, 2, 4]</text>\n<text text-anchor=\"start\" x=\"953\" y=\"-79.8\" font-family=\"Helvetica,sans-Serif\" font-size=\"14.00\" fill=\"#000000\">class = High</text>\n</g>\n<!-- 41&#45;&gt;43 -->\n<g id=\"edge15\" class=\"edge\">\n<title>41&#45;&gt;43</title>\n<path fill=\"none\" stroke=\"#000000\" d=\"M865.5513,-190.8796C881.8143,-181.0056 899.2701,-170.4075 915.8858,-160.3193\"/>\n<polygon fill=\"#000000\" stroke=\"#000000\" points=\"917.756,-163.2785 924.4874,-155.0969 914.1231,-157.295 917.756,-163.2785\"/>\n</g>\n<!-- 44 -->\n<g id=\"node17\" class=\"node\">\n<title>44</title>\n<path fill=\"#c0c0c0\" stroke=\"#000000\" d=\"M972,-36C972,-36 942,-36 942,-36 936,-36 930,-30 930,-24 930,-24 930,-12 930,-12 930,-6 936,0 942,0 942,0 972,0 972,0 978,0 984,-6 984,-12 984,-12 984,-24 984,-24 984,-30 978,-36 972,-36\"/>\n<text text-anchor=\"middle\" x=\"957\" y=\"-14.3\" font-family=\"Helvetica,sans-Serif\" font-size=\"14.00\" fill=\"#000000\">(...)</text>\n</g>\n<!-- 43&#45;&gt;44 -->\n<g id=\"edge16\" class=\"edge\">\n<title>43&#45;&gt;44</title>\n<path fill=\"none\" stroke=\"#000000\" d=\"M977.3146,-71.8901C973.9739,-63.0279 970.525,-53.8788 967.4386,-45.6913\"/>\n<polygon fill=\"#000000\" stroke=\"#000000\" points=\"970.6877,-44.3878 963.8853,-36.2651 964.1376,-46.8569 970.6877,-44.3878\"/>\n</g>\n<!-- 47 -->\n<g id=\"node18\" class=\"node\">\n<title>47</title>\n<path fill=\"#c0c0c0\" stroke=\"#000000\" d=\"M1044,-36C1044,-36 1014,-36 1014,-36 1008,-36 1002,-30 1002,-24 1002,-24 1002,-12 1002,-12 1002,-6 1008,0 1014,0 1014,0 1044,0 1044,0 1050,0 1056,-6 1056,-12 1056,-12 1056,-24 1056,-24 1056,-30 1050,-36 1044,-36\"/>\n<text text-anchor=\"middle\" x=\"1029\" y=\"-14.3\" font-family=\"Helvetica,sans-Serif\" font-size=\"14.00\" fill=\"#000000\">(...)</text>\n</g>\n<!-- 43&#45;&gt;47 -->\n<g id=\"edge17\" class=\"edge\">\n<title>43&#45;&gt;47</title>\n<path fill=\"none\" stroke=\"#000000\" d=\"M1008.6854,-71.8901C1012.0261,-63.0279 1015.475,-53.8788 1018.5614,-45.6913\"/>\n<polygon fill=\"#000000\" stroke=\"#000000\" points=\"1021.8624,-46.8569 1022.1147,-36.2651 1015.3123,-44.3878 1021.8624,-46.8569\"/>\n</g>\n</g>\n</svg>\n"
          },
          "metadata": {},
          "execution_count": 15
        }
      ]
    },
    {
      "cell_type": "markdown",
      "metadata": {
        "id": "eVwy9-Jj5eb1"
      },
      "source": [
        "# **KNN**\n"
      ]
    },
    {
      "cell_type": "code",
      "metadata": {
        "id": "B0aQ9qpJ5lF6"
      },
      "source": [
        "from sklearn.preprocessing import StandardScaler\n",
        "scaler = StandardScaler()\n",
        "scaler.fit(X_train)\n",
        "\n",
        "X_train = scaler.transform(X_train)\n",
        "X_test = scaler.transform(X_test)"
      ],
      "execution_count": 16,
      "outputs": []
    },
    {
      "cell_type": "code",
      "metadata": {
        "colab": {
          "base_uri": "https://localhost:8080/"
        },
        "id": "nM4OhtVB58Nb",
        "outputId": "2749a99f-37c0-4e0a-c00b-663704e24978"
      },
      "source": [
        "X_train[0:4, :]"
      ],
      "execution_count": 17,
      "outputs": [
        {
          "output_type": "execute_result",
          "data": {
            "text/plain": [
              "array([[ 0.07315985,  0.36033599,  0.81504474, -0.02236068, -0.72308186,\n",
              "        -0.73161971, -0.28258118, -0.6860973 ,  0.89930861,  0.76533257],\n",
              "       [-1.60951675,  0.36033599, -0.14355902, -0.40808241,  1.85757236,\n",
              "         0.24860864,  1.34226063,  1.00464248, -0.02684503,  1.23265954],\n",
              "       [ 0.07315985,  0.77472238,  0.17597557, -0.40808241,  0.99735429,\n",
              "        -0.73161971,  0.80064669,  1.00464248, -0.02684503, -0.16932137],\n",
              "       [ 0.91449815,  0.77472238,  0.81504474,  0.36336105, -0.72308186,\n",
              "         2.20906535, -0.82419512, -1.5314672 ,  0.89930861,  0.76533257]])"
            ]
          },
          "metadata": {},
          "execution_count": 17
        }
      ]
    },
    {
      "cell_type": "code",
      "metadata": {
        "id": "Ojsa4m_W6AAn"
      },
      "source": [
        "from sklearn.neighbors import KNeighborsClassifier\n",
        "from sklearn.metrics import confusion_matrix"
      ],
      "execution_count": 18,
      "outputs": []
    },
    {
      "cell_type": "code",
      "metadata": {
        "colab": {
          "base_uri": "https://localhost:8080/"
        },
        "id": "nLBT6SSZ6Rxu",
        "outputId": "6eb33cf0-26b7-4b36-9c7b-4d4a54fc1855"
      },
      "source": [
        "for i in range(1, 14, 2):\n",
        "  KNN = KNeighborsClassifier(n_neighbors=5)\n",
        "  KNN.fit(X_train, y_train)\n",
        "  y_pred = KNN.predict(X_test)\n",
        "  print(\"KNN Accurary \",i,\" : \", accuracy_score(y_test, y_pred))\n",
        "print(\"KNN Confusion Metrix  : \\n\",confusion_matrix(y_test, y_pred))\n"
      ],
      "execution_count": 19,
      "outputs": [
        {
          "output_type": "stream",
          "name": "stdout",
          "text": [
            "KNN Accurary  1  :  0.6111111111111112\n",
            "KNN Accurary  3  :  0.6111111111111112\n",
            "KNN Accurary  5  :  0.6111111111111112\n",
            "KNN Accurary  7  :  0.6111111111111112\n",
            "KNN Accurary  9  :  0.6111111111111112\n",
            "KNN Accurary  11  :  0.6111111111111112\n",
            "KNN Accurary  13  :  0.6111111111111112\n",
            "KNN Confusion Metrix  : \n",
            " [[2 0 2 0 0]\n",
            " [1 0 1 0 0]\n",
            " [1 0 9 0 0]\n",
            " [0 0 1 0 0]\n",
            " [1 0 0 0 0]]\n"
          ]
        }
      ]
    },
    {
      "cell_type": "markdown",
      "metadata": {
        "id": "aFMUSyNPqn2T"
      },
      "source": [
        "# **Parameter Tuning Decision Tree**"
      ]
    },
    {
      "cell_type": "code",
      "metadata": {
        "id": "lKtJddk2qw0A"
      },
      "source": [
        "from sklearn.model_selection import GridSearchCV\n",
        "dt = DecisionTreeClassifier()\n",
        "parameter_dict = {\n",
        "    \"criterion\": [\"gini\", \"entropy\"],\n",
        "    \"max_depth\": range(1,13),\n",
        "    \"min_samples_split\": range(1,10),\n",
        "    \"min_samples_leaf\": range(1,7)\n",
        "}"
      ],
      "execution_count": 20,
      "outputs": []
    },
    {
      "cell_type": "code",
      "metadata": {
        "colab": {
          "base_uri": "https://localhost:8080/"
        },
        "id": "eTb8b_LPrNML",
        "outputId": "565ba128-4091-460d-eab6-866ad02dd533"
      },
      "source": [
        "gs = GridSearchCV(dt, param_grid=parameter_dict, cv=5)\n",
        "gs.fit(X_train, y_train)\n",
        "\n",
        "gs_pred = gs.predict(X_test)\n",
        "acurracy = accuracy_score(y_test, gs_pred)"
      ],
      "execution_count": 21,
      "outputs": [
        {
          "output_type": "stream",
          "name": "stderr",
          "text": [
            "/usr/local/lib/python3.7/dist-packages/sklearn/model_selection/_split.py:680: UserWarning: The least populated class in y has only 3 members, which is less than n_splits=5.\n",
            "  UserWarning,\n",
            "/usr/local/lib/python3.7/dist-packages/sklearn/model_selection/_validation.py:372: FitFailedWarning: \n",
            "720 fits failed out of a total of 6480.\n",
            "The score on these train-test partitions for these parameters will be set to nan.\n",
            "If these failures are not expected, you can try to debug them by setting error_score='raise'.\n",
            "\n",
            "Below are more details about the failures:\n",
            "--------------------------------------------------------------------------------\n",
            "720 fits failed with the following error:\n",
            "Traceback (most recent call last):\n",
            "  File \"/usr/local/lib/python3.7/dist-packages/sklearn/model_selection/_validation.py\", line 681, in _fit_and_score\n",
            "    estimator.fit(X_train, y_train, **fit_params)\n",
            "  File \"/usr/local/lib/python3.7/dist-packages/sklearn/tree/_classes.py\", line 942, in fit\n",
            "    X_idx_sorted=X_idx_sorted,\n",
            "  File \"/usr/local/lib/python3.7/dist-packages/sklearn/tree/_classes.py\", line 254, in fit\n",
            "    % self.min_samples_split\n",
            "ValueError: min_samples_split must be an integer greater than 1 or a float in (0.0, 1.0]; got the integer 1\n",
            "\n",
            "  warnings.warn(some_fits_failed_message, FitFailedWarning)\n",
            "/usr/local/lib/python3.7/dist-packages/sklearn/model_selection/_search.py:972: UserWarning: One or more of the test scores are non-finite: [       nan 0.50659341 0.50659341 ... 0.47802198 0.44945055 0.44945055]\n",
            "  category=UserWarning,\n"
          ]
        }
      ]
    },
    {
      "cell_type": "code",
      "metadata": {
        "colab": {
          "base_uri": "https://localhost:8080/"
        },
        "id": "y01DWSVqsNYE",
        "outputId": "2b84a449-4ea4-44a7-c6ad-9cb9a9ecb4e1"
      },
      "source": [
        "print(gs.best_params_)\n",
        "print(\"accuracy score: \", acurracy)"
      ],
      "execution_count": 22,
      "outputs": [
        {
          "output_type": "stream",
          "name": "stdout",
          "text": [
            "{'criterion': 'entropy', 'max_depth': 1, 'min_samples_leaf': 1, 'min_samples_split': 2}\n",
            "accuracy score:  0.6666666666666666\n"
          ]
        }
      ]
    },
    {
      "cell_type": "code",
      "metadata": {
        "colab": {
          "base_uri": "https://localhost:8080/"
        },
        "id": "xuvFvnV5sTeH",
        "outputId": "5615c9e3-6c8d-4a19-c8c9-24d48d43353f"
      },
      "source": [
        "DT = DecisionTreeClassifier(criterion=\"entropy\", max_depth=1, min_samples_leaf=1, min_samples_split=2)\n",
        "DT = DT.fit(X_train, y_train)\n",
        "y_pred = DT.predict(X_test)\n",
        "print(\"Accuracy : \", accuracy_score(y_pred, y_test))\n"
      ],
      "execution_count": 23,
      "outputs": [
        {
          "output_type": "stream",
          "name": "stdout",
          "text": [
            "Accuracy :  0.6666666666666666\n"
          ]
        }
      ]
    },
    {
      "cell_type": "markdown",
      "metadata": {
        "id": "f89O-_UHwOyz"
      },
      "source": [
        "# **KNN Parameter Tuning**"
      ]
    },
    {
      "cell_type": "code",
      "metadata": {
        "id": "v6_PbYKbwiyW"
      },
      "source": [
        "grid_params = { 'n_neighbors' : range(1, 14)}"
      ],
      "execution_count": 30,
      "outputs": []
    },
    {
      "cell_type": "code",
      "metadata": {
        "colab": {
          "base_uri": "https://localhost:8080/"
        },
        "id": "D-4LiERrwdaQ",
        "outputId": "2266061b-e55d-48ab-b298-aa47b965ef05"
      },
      "source": [
        "gs = GridSearchCV(KNeighborsClassifier(), grid_params, cv=3)\n",
        "# fit the model on our train set\n",
        "g_res = gs.fit(X_train, y_train)\n",
        "# get the hyperparameters with the best score\n",
        "gs.best_params_"
      ],
      "execution_count": 31,
      "outputs": [
        {
          "output_type": "execute_result",
          "data": {
            "text/plain": [
              "{'n_neighbors': 6}"
            ]
          },
          "metadata": {},
          "execution_count": 31
        }
      ]
    },
    {
      "cell_type": "code",
      "metadata": {
        "colab": {
          "base_uri": "https://localhost:8080/"
        },
        "id": "mbo4eDrQwu-J",
        "outputId": "b8ebfbbb-8896-4496-81be-b298ef0d68d4"
      },
      "source": [
        "gs_pred = gs.predict(X_test)\n",
        "acc = accuracy_score(y_test,gs_pred)\n",
        "print(\"Accuracy: \", acc)"
      ],
      "execution_count": 32,
      "outputs": [
        {
          "output_type": "stream",
          "name": "stdout",
          "text": [
            "Accuracy:  0.6666666666666666\n"
          ]
        }
      ]
    }
  ]
}